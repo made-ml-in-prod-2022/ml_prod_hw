{
  "cells": [
    {
      "cell_type": "code",
      "execution_count": null,
      "metadata": {
        "id": "yW-VW3KWrR0w"
      },
      "outputs": [
        {
          "ename": "",
          "evalue": "",
          "output_type": "error",
          "traceback": [
            "\u001b[1;31mRunning cells with 'Python 3.9.12 ('venv1')' requires ipykernel package.\n",
            "Run the following command to install 'ipykernel' into the Python environment. \n",
            "Command: 'conda install -n venv1 ipykernel --update-deps --force-reinstall'"
          ]
        }
      ],
      "source": [
        "import torch\n",
        "import numpy\n",
        "import pandas as pd\n",
        "import torch.nn.functional as F\n",
        "from torch import optim\n",
        "from torch import nn\n",
        "from torch.utils.data import DataLoader\n",
        "import torch.utils.data as data\n",
        "from torch.utils.data import random_split\n",
        "import matplotlib.pyplot as plt\n",
        "%matplotlib inline"
      ]
    },
    {
      "cell_type": "code",
      "execution_count": 6,
      "metadata": {
        "colab": {
          "base_uri": "https://localhost:8080/"
        },
        "id": "P_z5feSHrZ7t",
        "outputId": "66d82028-9ba6-4ff9-9de5-978b13af2e97"
      },
      "outputs": [
        {
          "data": {
            "text/plain": [
              "<torch._C.Generator at 0x7f31490f9730>"
            ]
          },
          "execution_count": 6,
          "metadata": {},
          "output_type": "execute_result"
        }
      ],
      "source": [
        "device = torch.device(\"cuda\" if torch.cuda.is_available() else \"cpu\")\n",
        "SEED = 322\n",
        "input_size = 13\n",
        "num_classes = 2\n",
        "learning_rate = 0.001\n",
        "batch_size = 1\n",
        "num_epochs = 200\n",
        "torch.manual_seed(SEED)"
      ]
    },
    {
      "cell_type": "code",
      "execution_count": 2,
      "metadata": {
        "id": "MgRNDqE8rXiH"
      },
      "outputs": [],
      "source": [
        "class NN(nn.Module):\n",
        "    def __init__(self, input_size, num_classes):\n",
        "        super(NN, self).__init__()\n",
        "        self.fc1 = nn.Linear(input_size, 100)\n",
        "        self.fc2 = nn.Linear(100, num_classes)\n",
        "\n",
        "    def forward(self, x):\n",
        "        x = self.fc1(x)\n",
        "        x = F.relu(x)\n",
        "        x = self.fc2(x)\n",
        "        return x"
      ]
    },
    {
      "cell_type": "code",
      "execution_count": 3,
      "metadata": {
        "id": "uLC4WbLNs8gL"
      },
      "outputs": [],
      "source": [
        "class MyDataset(data.Dataset):\n",
        "    def __init__(self, csv_path):\n",
        "        self.dataset = pd.read_csv(csv_path)\n",
        "        self.x = self.dataset.iloc[:,:-1].to_numpy()\n",
        "        self.y = self.dataset.iloc[:,-1].to_numpy()\n",
        "        self.x = torch.from_numpy(self.x)\n",
        "        self.y = torch.from_numpy(self.y)\n",
        "\n",
        "\n",
        "    def __getitem__(self, index):\n",
        "        features, target = self.x[index], self.y[index]\n",
        "\n",
        "        return features, target\n",
        "\n",
        "    def __len__(self):\n",
        "      return self.x.shape[0]"
      ]
    },
    {
      "cell_type": "code",
      "execution_count": 4,
      "metadata": {
        "id": "4nN3d4_Irr2m"
      },
      "outputs": [],
      "source": [
        "dataset = MyDataset(\"heart_cleveland_upload.csv\")\n",
        "train_dataset, test_dataset = random_split(dataset,(222, 75))"
      ]
    },
    {
      "cell_type": "code",
      "execution_count": 7,
      "metadata": {
        "id": "7ddqjtTZr-LE"
      },
      "outputs": [],
      "source": [
        "train_loader = DataLoader(dataset=train_dataset, batch_size=batch_size, shuffle=True)\n",
        "test_loader = DataLoader(dataset=test_dataset, batch_size=batch_size, shuffle=True)"
      ]
    },
    {
      "cell_type": "code",
      "execution_count": 8,
      "metadata": {
        "id": "Mv-e_CVWx4dc"
      },
      "outputs": [],
      "source": [
        "def check_accuracy(loader, model):\n",
        "    num_correct = 0\n",
        "    num_samples = 0\n",
        "    model.eval()\n",
        "\n",
        "    with torch.no_grad():\n",
        "        for x, y in loader:\n",
        "            x = x.to(device=device)\n",
        "            y = y.to(device=device)\n",
        "            x = x.reshape(x.shape[0], -1)\n",
        "\n",
        "            scores = model(x.float())\n",
        "            _, predictions = scores.max(1)\n",
        "            num_correct += (predictions == y).sum()\n",
        "            num_samples += predictions.size(0)\n",
        "\n",
        "    model.train()\n",
        "    return num_correct/num_samples"
      ]
    },
    {
      "cell_type": "code",
      "execution_count": 16,
      "metadata": {
        "colab": {
          "base_uri": "https://localhost:8080/"
        },
        "id": "GvzSPV8vwsnh",
        "outputId": "6866775e-35ef-4a89-b138-61d2765040ea"
      },
      "outputs": [
        {
          "name": "stdout",
          "output_type": "stream",
          "text": [
            "Accuracy on training set: 86.94\n",
            "Accuracy on test set: 80.00\n"
          ]
        }
      ],
      "source": [
        "model = NN(input_size=input_size, num_classes=num_classes).to(device)\n",
        "criterion = nn.CrossEntropyLoss()\n",
        "optimizer = optim.Adam(model.parameters(), lr=learning_rate, weight_decay=0.0001)\n",
        "# optimizer = optim.SGD(model.parameters(), nesterov=True, momentum=0.9, lr=0.1, weight_decay=0.0001)\n",
        "\n",
        "train_acc = []\n",
        "test_acc = []\n",
        "\n",
        "for epoch in range(num_epochs):\n",
        "    for batch_idx, (data, targets) in enumerate(train_loader):\n",
        "        data = data.to(device=device)\n",
        "        targets = targets.to(device=device)\n",
        "\n",
        "        scores = model(data.float())\n",
        "        loss = criterion(scores, targets)\n",
        "\n",
        "        optimizer.zero_grad()\n",
        "        loss.backward()\n",
        "\n",
        "        optimizer.step()\n",
        "\n",
        "    train_acc.append(check_accuracy(train_loader, model))\n",
        "    test_acc.append(check_accuracy(test_loader, model))\n",
        "\n",
        "\n",
        "print(f\"Accuracy on training set: {check_accuracy(train_loader, model)*100:.2f}\")\n",
        "print(f\"Accuracy on test set: {check_accuracy(test_loader, model)*100:.2f}\")"
      ]
    },
    {
      "cell_type": "code",
      "execution_count": 17,
      "metadata": {
        "colab": {
          "base_uri": "https://localhost:8080/",
          "height": 283
        },
        "id": "EfgxS2T_yHJo",
        "outputId": "67ec5c29-ea01-442b-f007-f189027b366a"
      },
      "outputs": [
        {
          "data": {
            "text/plain": [
              "[<matplotlib.lines.Line2D at 0x7f314086f410>]"
            ]
          },
          "execution_count": 17,
          "metadata": {},
          "output_type": "execute_result"
        },
        {
          "data": {
            "image/png": "[encoded data removed]",
            "text/plain": [
              "<Figure size 432x288 with 1 Axes>"
            ]
          },
          "metadata": {
            "needs_background": "light"
          },
          "output_type": "display_data"
        }
      ],
      "source": [
        "plt.plot(train_acc)\n",
        "plt.plot(test_acc)"
      ]
    },
    {
      "cell_type": "code",
      "execution_count": null,
      "metadata": {
        "id": "arG4N8ic3ifz"
      },
      "outputs": [],
      "source": []
    }
  ],
  "metadata": {
    "colab": {
      "collapsed_sections": [],
      "name": "hw1_prod.ipynb",
      "provenance": []
    },
    "interpreter": {
      "hash": "58fc5174b1a3fd8cdce608ef8d332817a85dbaaea20b4dc314bd83757e2155dc"
    },
    "kernelspec": {
      "display_name": "Python 3.9.12 ('venv1')",
      "language": "python",
      "name": "python3"
    },
    "language_info": {
      "name": "python",
      "version": "3.9.12"
    }
  },
  "nbformat": 4,
  "nbformat_minor": 0
}
